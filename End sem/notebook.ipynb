{
 "cells": [
  {
   "cell_type": "markdown",
   "metadata": {},
   "source": [
    "# Introduction\n",
    "\n",
    "In this assignment, we have been given a rectangular tank filled with a fluid and we have to analyze the various electrical properties of this system."
   ]
  },
  {
   "cell_type": "markdown",
   "metadata": {},
   "source": [
    "# Tasks"
   ]
  },
  {
   "cell_type": "markdown",
   "metadata": {},
   "source": [
    "## Part - 1\n",
    "\n",
    "The given rectangular tank can be modeled as a parallel plate capacitor having a dielectric slab inserted to it. For a parallel plate capacitor, it's capacitance is given by the following formula,\n",
    "$$ C=\\frac{\\epsilon_0 A}{L_y-h(1-\\frac{1}{\\epsilon_r})} $$\n",
    "Then, for a RLC circuit, $\\omega_0=\\frac{1}{\\sqrt{LC}}$\n",
    "\n",
    "Hence, if $\\omega_0$,L,A are known, then $h$ can be calculated from them."
   ]
  },
  {
   "cell_type": "markdown",
   "metadata": {},
   "source": [
    "### Code"
   ]
  },
  {
   "cell_type": "code",
   "execution_count": 1,
   "metadata": {},
   "outputs": [
    {
     "name": "stdout",
     "output_type": "stream",
     "text": [
      "Value of h for a given set of initial parameters : 13.450000000000006 cms\n"
     ]
    }
   ],
   "source": [
    "#Importing required functions and libraries\n",
    "from pylab import *\n",
    "import math\n",
    "import mpl_toolkits.mplot3d.axes3d as p3\n",
    "\n",
    "#Calculating 'h', if required parameters are given\n",
    "#Values are taken at SI units\n",
    "#L->Inductance connected to circuit, A->Area of cross-section of plate\n",
    "#w->Resonant frequency, Er->Dielectric constant\n",
    "def calculate_h(Er,L,A,w,Ly):\n",
    "    Eo = 8.85*(10**(-12))\n",
    "    h = (((L*w*w*A*(Eo)) - Ly)*Er)/(1-Er)\n",
    "    return h\n",
    "print('Value of h for a given set of initial parameters :',calculate_h(2,0.015,1,10**6,0.2)*100,'cms')"
   ]
  },
  {
   "cell_type": "markdown",
   "metadata": {},
   "source": [
    "## Part - 2\n",
    "\n",
    "We can parallelize computation by using vectorization of arrays, this is faster than using loops to assign or change values of a matrix. We can use vectorised codes using $numpy$ arrays. They parallelize the computation process as opposed to taking and changing a single variable at a time. In a vectorized code, values for a row updated at a time instead of updating single values at a time. Hence, this makes the code more faster and compact, thus making it more readable.\n",
    "\n",
    "As the boundary case has to be handled separately, we can split the matrix into 3 parts using slicing, one m<k,one m=k and another m>k. Then, we can update these 3 parts of matrix separately."
   ]
  },
  {
   "cell_type": "markdown",
   "metadata": {},
   "source": [
    "## Part - 3\n",
    "\n",
    "### Solving for potential\n",
    "In this part we have to write a function to solve for potential matrix using $Laplace$ equation.\n",
    "Let the tank be split into $N\\times M$ grids, and let $\\phi$ be the potential matrix.\n",
    "Then the $Laplace$ equation is given as follows,\n",
    "\n",
    "$ \\phi_{m,n} = \\frac{\\phi_{m-1,n}+\\phi_{m+1,n}+\\phi_{m,n-1}+\\phi_{m,n+1}}{4} , m \\neq k  $\n",
    "\n",
    "$ \\phi_{m,n} = \\frac{\\epsilon_r \\phi_{m-1,n}+\\phi_{m+1,n}}{1+\\epsilon_r} , m=k $\n",
    "\n",
    "This functions takes in several parameters and then solves and returns the final potential matrix after desired accuracy is reached. Here, top plate is always at +1V and the side and bottom plates are grounded (0v).\n",
    "\n",
    "### Modeling Error\n",
    "\n",
    "Error varies exponentially with the number of iterations. The equation for the error is given as,\n",
    "\n",
    "$error = y = A e^{Bx}$\n",
    "\n",
    "where $A$ and $B$ are constants and $x$ is the number of iterations.\n",
    "\n",
    "Stopping condition is when,\n",
    "$ \\int_{N+0.5}^{\\infty} A e^{k} dk < \\delta $\n",
    "\n",
    "The integration evaluates to $ - \\frac{A}{B} e^{B(N+0.5)} $\n",
    "\n",
    "Hence, $N$ is the required number of iterations taken to reach desired accuracy when the following condition holds,\n",
    "$ - \\frac{A}{B} e^{B(N+0.5)} < \\delta $"
   ]
  },
  {
   "cell_type": "markdown",
   "metadata": {},
   "source": [
    "### Code"
   ]
  },
  {
   "cell_type": "code",
   "execution_count": 2,
   "metadata": {},
   "outputs": [
    {
     "name": "stdout",
     "output_type": "stream",
     "text": [
      "No. of iterations to reach the desired accuracy : 15329\n"
     ]
    },
    {
     "data": {
      "image/png": "[encoded data removed]",
      "text/plain": [
       "<Figure size 432x288 with 1 Axes>"
      ]
     },
     "metadata": {
      "needs_background": "light"
     },
     "output_type": "display_data"
    }
   ],
   "source": [
    "#function to find the values of A and B using the error vector\n",
    "def fitForError(errors, x):\n",
    "    A = zeros((len(errors), 2))\n",
    "    A[:, 0] = 1\n",
    "    A[:, 1] = x\n",
    "    return A, lstsq(A, log(errors), rcond=None)[0]\n",
    "\n",
    "#Function to solve the Laplace equation taking the specified params\n",
    "def solve_laplace(M,N,delta1,k,delta2,No,Er):\n",
    "    Nx = M                      #size along x\n",
    "    Ny = N                      #size along y\n",
    "    Niter = No                  #No. of max iters\n",
    "    phi = np.zeros((Ny,Nx))     #Defining potential matrix\n",
    "    err = zeros(Niter)          #Defing array to record errors \n",
    "    itr_taken = Niter\n",
    "    phi[0,:] = 1                #Giving +1v at the top\n",
    "    for j in range(Niter):      #Calculating the potential values until convergence\n",
    "        oldphi = phi.copy()\n",
    "        \n",
    "        phi[1:k, 1:-1] = 0.25*(phi[1:k, 0:-2]+phi[1:k, 2:]+phi[0:k-1, 1:-1]+phi[2:k+1, 1:-1])\n",
    "        phi[k,1:-1] = (1/(1+Er))*( phi[k-1,1:-1] + Er*phi[k+1,1:-1] )\n",
    "        phi[k+1:-1, 1:-1] = 0.25*(phi[k+1:-1, 0:-2]+phi[k+1:-1, 2:]+phi[k:-2, 1:-1]+phi[k+2:, 1:-1])\n",
    "        \n",
    "        err[j] = (abs(phi-oldphi)).max()\n",
    "        \n",
    "        \n",
    "    M2, c2 = fitForError(err[500:], range(Niter)[500:]) # fit - taking iterations > 500\n",
    "    A = (exp(c2[0]))\n",
    "    B = c2[1]\n",
    "    for j in range(500,Niter):\n",
    "        er = (A*((exp(B*(j+0.5)))))/(-B)\n",
    "        if(er<delta2):\n",
    "            itr_taken=j+1\n",
    "            break\n",
    "            \n",
    "    return phi,itr_taken,err\n",
    "\n",
    "#Checking the working of the solve_laplace function by plotting it's output for a set of parameters\n",
    "Ny = 400\n",
    "Nx = 200\n",
    "delta1 = 20/Ny\n",
    "itr = 30000\n",
    "k = 160\n",
    "delta2 = (5.7)*(10**(-2))\n",
    "Er = 2\n",
    "phi,itr_taken,err = solve_laplace(Nx,Ny,delta1,k,delta2,itr,Er)\n",
    "print(\"No. of iterations to reach the desired accuracy :\",itr_taken)\n",
    "#Plotting Error Vs No. of iterations\n",
    "#We can observe error value converges\n",
    "f = figure()\n",
    "ax = f.add_subplot(111)\n",
    "ax.plot(range(itr)[300::50], err[300::50], 'or')\n",
    "title('Error Vs No. of iterations')\n",
    "xlabel('No. of iters')\n",
    "ylabel('Error')\n",
    "show()"
   ]
  },
  {
   "cell_type": "markdown",
   "metadata": {},
   "source": [
    "Contour Plot of the potential function in the tank after steady state is reached."
   ]
  },
  {
   "cell_type": "code",
   "execution_count": 3,
   "metadata": {},
   "outputs": [
    {
     "data": {
      "image/png": "[encoded data removed]",
      "text/plain": [
       "<Figure size 432x288 with 2 Axes>"
      ]
     },
     "metadata": {
      "needs_background": "light"
     },
     "output_type": "display_data"
    }
   ],
   "source": [
    "#Contour plot of potential of the tank for the above specified parameters\n",
    "y = linspace(0, 20, Ny)  # range of y\n",
    "x = linspace(0, 10, Nx)  # range of x\n",
    "X, Y = meshgrid(x, -y)\n",
    "fig = figure()\n",
    "ax = fig.add_subplot(111)\n",
    "plt1 = ax.contourf(X, Y, phi, cmap=\"RdBu_r\")\n",
    "title(\"Contour plot of Updated potential $\\phi$\")\n",
    "xlabel(\"$x$\")\n",
    "ylabel(\"$y$\")\n",
    "ax = gca()\n",
    "fig.colorbar(plt1, ax=ax, orientation='vertical')\n",
    "show()"
   ]
  },
  {
   "cell_type": "markdown",
   "metadata": {},
   "source": [
    "## Part - 4\n",
    "\n",
    "Here, we have to find charges at the boundaries of the plate. $Q_{top}$ is charge present at the top plate, and $Q_{fluid}$ is the charge present in the walls of the tank which are in contact with the fluid.\n",
    "\n",
    "We can calculate the charges using boundary conditions derived from Gauss Law.\n",
    "$$ \\nabla E = \\frac{\\rho}{\\epsilon} $$\n",
    "where E-> Electric field, $\\rho$->charge density.\n",
    "\n",
    "Just outside the fluid there is no electric field, and the electric field just inside the fluid can be calculated using the potential matrix( $ - \\frac{d \\phi}{dr} = E $ ).\n",
    "As $\\epsilon$ is a constant, Charge on the plates is directly propotional to the difference of electric fields just outside and inside of the plate.\n",
    "$$ \\frac{q}{z} = \\epsilon EA $$\n",
    "Hence, charge per unit length is propotional to the sum of electric fields of each grid present in the boundary"
   ]
  },
  {
   "cell_type": "markdown",
   "metadata": {},
   "source": [
    "### Code"
   ]
  },
  {
   "cell_type": "code",
   "execution_count": 4,
   "metadata": {},
   "outputs": [
    {
     "data": {
      "image/png": "[encoded data removed]",
      "text/plain": [
       "<Figure size 576x720 with 2 Axes>"
      ]
     },
     "metadata": {
      "needs_background": "light"
     },
     "output_type": "display_data"
    }
   ],
   "source": [
    "#Function to calculate chanrges on top plate and the side walls containg the fuid for a set of params\n",
    "def cal_charge(Ny,Nx,delta1,itr,k,delta2,Er):\n",
    "    \n",
    "    #Finding the potential distribution for the given set of params\n",
    "    phi,itr_taken,err = solve_laplace(Nx,Ny,delta1,k,delta2,itr,Er)\n",
    "    \n",
    "    #Distance between 2 cells\n",
    "    delx = 10/Nx\n",
    "    dely = 20/Ny\n",
    "    Area = delx*dely\n",
    "    eps = 8.85*(10**(-12))\n",
    "    #Summing up the electric field in the walls and bottom\n",
    "    Q_fluid = 0\n",
    "    E_nor1 = sum(phi[k+1:Ny,1])/delx\n",
    "    E_nor2 = sum(phi[k+1:Ny,-2])/(delx)\n",
    "    E_nor3 = sum(phi[Ny-2,1:Nx-1])/dely\n",
    "    Q_fluid = (E_nor1 + E_nor2 + E_nor3)*(eps*Area)\n",
    "    \n",
    "    #summing up the electric field at the top\n",
    "    Q_top = 0\n",
    "    E_nor = sum(phi[0]-phi[1])/(dely)\n",
    "    Q_top = E_nor*(eps*Area)\n",
    "        \n",
    "    return Q_fluid,Q_top\n",
    "\n",
    "#Function to plot charge Vs h\n",
    "def plot_charge():\n",
    "    Qf,Qt = [], []\n",
    "    \n",
    "    #Calculating charge for different heights of liquid\n",
    "    for i in range(1,10):\n",
    "        ratio = i/10\n",
    "        q1,q2 = cal_charge(200,100,20/Ny,10000,int(200-(ratio)*(200)),10**(-6),2)\n",
    "        Qf.append(q1)\n",
    "        Qt.append(q2)\n",
    "        \n",
    "    #Plotting Qtop, Qfluid Vs h (height of the fluid)\n",
    "    f = figure(figsize=(8,10))\n",
    "    ax = f.add_subplot(211)\n",
    "    ax2 = f.add_subplot(212)\n",
    "    x = [i/10 for i in range(1,10)]\n",
    "    ax.plot(x,Qf)\n",
    "    ax2.plot(x,Qt)\n",
    "    f.suptitle(\"Plots of Qtop vs h and Qfluid vs h\")\n",
    "    ax.set_xlabel('Ratio of h/Ly')\n",
    "    ax.set_ylabel('Qfluid per unit width')\n",
    "    ax.grid(True)\n",
    "    ax2.set_xlabel('Ratio of h/Ly')\n",
    "    ax2.set_ylabel('Qtop per unit width')\n",
    "    ax2.grid(True)\n",
    "    show()\n",
    "    \n",
    "plot_charge()"
   ]
  },
  {
   "cell_type": "markdown",
   "metadata": {},
   "source": [
    "### Inference\n",
    "\n",
    "From the above plots, we can see that charge doesn't vary linearily with h. Charge on a capacitor is given by, $ Q = CV $. Hence, for a given voltage, charge is directly propotional to capacitance.\n",
    "\n",
    "And capcitance is given by, $C=\\frac{\\epsilon_0 A}{L_y-h(1-\\frac{1}{\\epsilon_r})}$\n",
    "\n",
    "We can see that capacitance varies proportionately with $\\frac{1}{1-\\frac{h}{2}}$, hence charge varies proportionately with $\\frac{1}{1-\\frac{h}{2}}$. This is the equation of a hyperbola.\n",
    "\n",
    "The above graphs are hyperbolic in nature. Hence, our result is correct."
   ]
  },
  {
   "cell_type": "markdown",
   "metadata": {},
   "source": [
    "## Part - 5\n",
    "\n",
    "For $\\frac{h}{L_y}=0.5$, we have to find the electric field and verify the continuity of $D$ (electric displacement field).\n",
    "\n",
    "We can find the electric field at the centre by using the potential function.\n",
    "$$ - \\frac{d \\phi}{dr} = E $$\n",
    "\n",
    "And Electric displacement field is given by,\n",
    "$$ D = \\epsilon E $$\n",
    "$$ D = \\epsilon_r \\epsilon_0 E $$"
   ]
  },
  {
   "cell_type": "markdown",
   "metadata": {},
   "source": [
    "### Code"
   ]
  },
  {
   "cell_type": "code",
   "execution_count": 5,
   "metadata": {},
   "outputs": [
    {
     "name": "stdout",
     "output_type": "stream",
     "text": [
      "Field at the centre\n",
      "Normal Component of Electrin Field in 'air' medium : 0.022546899734665823 V/cm\n",
      "Normal Component of Electrin Field in 'Fluid' medium : 0.01127227679895794 V/cm\n",
      "Tangential Component of Electrin Field in 'air' medium : 0.00035714509668258176 V/cm\n",
      "Tangential Component of Electrin Field in 'Fluid' medium : 0.00035714509668258176 V/cm\n",
      "\n",
      "D in air : 0.022546899734665823\n",
      "D in Fluid : 0.02254455359791588\n",
      "\n",
      "Ratio of fields (Ey_fluid/Ey_air) across the boundary\n",
      "[0.49994834 0.49994834 0.49994833 0.49994833 0.49994833 0.49994832\n",
      " 0.49994832 0.49994831 0.49994831 0.4999483  0.49994829 0.49994829\n",
      " 0.49994828 0.49994827 0.49994826 0.49994825 0.49994824 0.49994823\n",
      " 0.49994822 0.49994821 0.4999482  0.49994819 0.49994817 0.49994816\n",
      " 0.49994815 0.49994814 0.49994813 0.49994812 0.49994811 0.49994809\n",
      " 0.49994808 0.49994807 0.49994806 0.49994805 0.49994804 0.49994804\n",
      " 0.49994803 0.49994802 0.49994801 0.499948   0.499948   0.49994799\n",
      " 0.49994799 0.49994798 0.49994798 0.49994798 0.49994797 0.49994797\n",
      " 0.49994797 0.49994797 0.49994797 0.49994797 0.49994798 0.49994798\n",
      " 0.49994798 0.49994799 0.49994799 0.499948   0.499948   0.49994801\n",
      " 0.49994802 0.49994803 0.49994804 0.49994804 0.49994805 0.49994806\n",
      " 0.49994807 0.49994808 0.49994809 0.49994811 0.49994812 0.49994813\n",
      " 0.49994814 0.49994815 0.49994816 0.49994817 0.49994819 0.4999482\n",
      " 0.49994821 0.49994822 0.49994823 0.49994824 0.49994825 0.49994826\n",
      " 0.49994827 0.49994828 0.49994829 0.49994829 0.4999483  0.49994831\n",
      " 0.49994831 0.49994832 0.49994832 0.49994833 0.49994833 0.49994833\n",
      " 0.49994834 0.49994834]\n"
     ]
    }
   ],
   "source": [
    "#Function to calculate field at the central point\n",
    "def calc_field(Ny,Nx,delta1,itr,k,delta2,Er):\n",
    "    \n",
    "    #Calculating potential distribution\n",
    "    phi,itr_taken,err = solve_laplace(Nx,Ny,delta1,k,delta2,itr,Er)\n",
    "    \n",
    "    delx = 10/Nx\n",
    "    dely = 20/Ny\n",
    "    \n",
    "    #Calculating tangential and normal components of electric field in both medium\n",
    "    Ey_air = (phi[k-1,Nx//2] - phi[k,Nx//2])/(dely)\n",
    "    Ex_air = (phi[k,Nx//2] - phi[k,Nx//2 +1])/(delx)\n",
    "    Ey_fluid = (phi[k,Nx//2] - phi[k+1,Nx//2])/(dely)\n",
    "    Ex_fluid = (phi[k,Nx//2] - phi[k,Nx//2 +1])/(delx)\n",
    "    \n",
    "    print('Field at the centre')\n",
    "    print('Normal Component of Electrin Field in \\'air\\' medium :',Ey_air,'V/cm')\n",
    "    print('Normal Component of Electrin Field in \\'Fluid\\' medium :',Ey_fluid,'V/cm')\n",
    "    print('Tangential Component of Electrin Field in \\'air\\' medium :',Ex_air,'V/cm')\n",
    "    print('Tangential Component of Electrin Field in \\'Fluid\\' medium :',Ex_fluid,'V/cm')\n",
    "    print()\n",
    "    print('D in air :',Ey_air)\n",
    "    print('D in Fluid :',Er*Ey_fluid)\n",
    "    print()\n",
    "    print('Ratio of fields (Ey_fluid/Ey_air) across the boundary')\n",
    "    #Calculating field across the boundary\n",
    "    Ey_a = (phi[k-1,1:-1] - phi[k,1:-1])/(dely)\n",
    "    Ey_f = (phi[k,1:-1] - phi[k+1,1:-1])/(dely)\n",
    "    print(Ey_f/Ey_a)\n",
    "    \n",
    "calc_field(200,100,20/Ny,18000,100,10**(-5),2)"
   ]
  },
  {
   "cell_type": "markdown",
   "metadata": {},
   "source": [
    "### Inference\n",
    "\n",
    "We can observe that ratio of electric fields across the boundary is constant (~0.5), which is equal to the inverse ratio of the dielectric constants.So, Electric displacement field is same in both the medium across all the grids in the boundary. Hence, $D$ is continuous at the air-fluid boundary."
   ]
  },
  {
   "cell_type": "markdown",
   "metadata": {},
   "source": [
    "## Part - 6\n",
    "\n",
    "In this part, we have to verify if the field follows snell's law or not. Snell's law is given by,\n",
    "$$ \\frac{sin(i)}{sin(r)} = \\frac{n_2}{n_1} $$\n",
    "where $n_i$ is the refractive indices of respective mediums.\n",
    "\n",
    "Refractive index is ratio of speed of light in vaccum with speed of light in that medium and hence is given by,\n",
    "$$ n=\\frac{1}{\\sqrt{\\mu_r \\epsilon_r}} $$\n",
    "Assuming permeability to be same for both the mediums, we can say that,\n",
    "$$ \\frac{n_2}{n_1}=\\frac{1}{\\sqrt{\\epsilon_r}} $$"
   ]
  },
  {
   "cell_type": "markdown",
   "metadata": {},
   "source": [
    "### Code"
   ]
  },
  {
   "cell_type": "code",
   "execution_count": 6,
   "metadata": {},
   "outputs": [
    {
     "name": "stdout",
     "output_type": "stream",
     "text": [
      "Angle of incidence (observed from air to fluid) : 0.90749485612962 deg\n",
      "Angle of Refraction (observed from air to fluid) : 1.8147233263584246 deg\n",
      "sin(i)/sin(r) = 0.5001361036284798\n",
      "Ratio of Refractive indexes = 0.7071067811865475\n"
     ]
    }
   ],
   "source": [
    "#Function to verify snell's law\n",
    "def verify_snell(Ny,Nx,delta1,itr,k,delta2,Er):\n",
    "    \n",
    "    phi,itr_taken,err = solve_laplace(Nx,Ny,delta1,k,delta2,itr,Er)\n",
    "    \n",
    "    delx = 10/Nx\n",
    "    dely = 20/Ny\n",
    "    \n",
    "    #Calculating field at central point\n",
    "    Ey_air = (phi[k-1,Nx//2] - phi[k,Nx//2])/(dely)\n",
    "    Ex_air = (phi[k,Nx//2] - phi[k,Nx//2 +1])/(delx)\n",
    "    Ey_fluid = (phi[k,Nx//2] - phi[k+1,Nx//2])/(dely)\n",
    "    Ex_fluid = (phi[k,Nx//2] - phi[k,Nx//2 +1])/(delx)\n",
    "    \n",
    "    #Finding angle of incidence,refraction using tangential and normal components of field\n",
    "    o1 = math.degrees(math.atan( 1/(Ey_air/Ex_air) ))\n",
    "    o2 = math.degrees(math.atan( 1/(Ey_fluid/Ex_fluid) ))\n",
    "    \n",
    "    print('Angle of incidence (observed from air to fluid) :',o1,'deg')\n",
    "    print('Angle of Refraction (observed from air to fluid) :',o2,'deg')\n",
    "    \n",
    "    #Calculating ratio of sine of angles\n",
    "    u1 = math.sin(math.radians(o1))\n",
    "    u2 = math.sin(math.radians(o2))\n",
    "    \n",
    "    #Ratio of refractive indices is propotional to sqrt(Er)\n",
    "    print('sin(i)/sin(r) =',u1/u2)\n",
    "    print('Ratio of Refractive indexes =',1/sqrt(Er))\n",
    "    \n",
    "verify_snell(200,100,20/Ny,18000,100,10**(-5),2)"
   ]
  },
  {
   "cell_type": "markdown",
   "metadata": {},
   "source": [
    "### Inference\n",
    "\n",
    "We can see that the electric field is not following the snell's law. Snell's law is valid only for propagating EM waves. Here, the potential function reaches a steady state and doesn't change after that. Hence, electric field is constant with respect to time as ($\\frac{d \\phi}{dt}=0$). So, this electric field doesn't propagate and hence its not neccessary to follow the snell's law."
   ]
  },
  {
   "cell_type": "markdown",
   "metadata": {},
   "source": [
    "# Conclusion\n",
    "\n",
    "We have successfully analyzed various electrical properties like capacitance, resonant frequecy, amount of charge appeared on plates of the system. We have also verified the boundary conditions derived from the Maxwell's equation (verification of continuity of D at the boundary)."
   ]
  }
 ],
 "metadata": {
  "kernelspec": {
   "display_name": "Python 3",
   "language": "python",
   "name": "python3"
  },
  "language_info": {
   "codemirror_mode": {
    "name": "ipython",
    "version": 3
   },
   "file_extension": ".py",
   "mimetype": "text/x-python",
   "name": "python",
   "nbconvert_exporter": "python",
   "pygments_lexer": "ipython3",
   "version": "3.7.6"
  }
 },
 "nbformat": 4,
 "nbformat_minor": 4
}
