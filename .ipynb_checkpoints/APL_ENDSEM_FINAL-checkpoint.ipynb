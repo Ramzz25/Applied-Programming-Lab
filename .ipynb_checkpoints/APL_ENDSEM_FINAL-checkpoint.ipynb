{
 "cells": [
  {
   "cell_type": "markdown",
   "metadata": {},
   "source": [
    "**APL ENDSEM**\n",
    "\n",
    "Submitted by: Tamil Sudaravan M\n",
    "\n",
    "Roll Number: EE18B119"
   ]
  },
  {
   "cell_type": "markdown",
   "metadata": {},
   "source": [
    "# Introduction\n",
    "Given An rectagular Tank filled with a fluid, we are requied to answer various questions given."
   ]
  },
  {
   "cell_type": "code",
   "execution_count": 92,
   "metadata": {},
   "outputs": [],
   "source": [
    "from pylab import *\n",
    "import numpy as np\n",
    "from math import *"
   ]
  },
  {
   "cell_type": "code",
   "execution_count": 93,
   "metadata": {},
   "outputs": [],
   "source": [
    "# The Following are the constant which I used.\n",
    "E_0 = 8.85*(10**-12)\n",
    "Er_fluid = 2\n",
    "Er_air = 1\n",
    "Ly = 20\n",
    "Lx = 10\n",
    "# These are values of dimensions which I used to verify all the Plots and Calculations\n",
    "N = 400\n",
    "M = 200\n",
    "k = 200\n",
    "delta = 20/N\n",
    "accuracy = 10**(-9)\n",
    "N_max = 20000"
   ]
  },
  {
   "cell_type": "markdown",
   "metadata": {},
   "source": [
    "# Questions"
   ]
  },
  {
   "cell_type": "markdown",
   "metadata": {},
   "source": [
    "## Question - b: \n",
    "### Solving(Assuming inductance and Area of Parallel Plate capacitor is given),  $ C = \\frac {\\epsilon A}{d - t + t/k}$ and\n",
    "### $w_0 = \\frac{1}{\\sqrt{LC}}$, we get the output of following function as anwer"
   ]
  },
  {
   "cell_type": "code",
   "execution_count": 94,
   "metadata": {},
   "outputs": [
    {
     "name": "stdout",
     "output_type": "stream",
     "text": [
      "40.0\n"
     ]
    }
   ],
   "source": [
    "def solve_Qn_b(w,L,A,Ly,Er_fluid):\n",
    "    Numerator = (E_0*A*L*((w)**2) - Ly)*Er_fluid\n",
    "    Denominator = (1-Er_fluid)\n",
    "    height = Numerator/Denominator\n",
    "    return height\n",
    "height = solve_Qn_b(0,5,5,20,Er_fluid)\n",
    "print(height)"
   ]
  },
  {
   "cell_type": "markdown",
   "metadata": {},
   "source": [
    "## Question - c:\n",
    "We can parallelize computation by vectorising arrays using numpy arrays. Using numpy array makes the computation much faster than any loops.\n",
    "\n",
    "In a single Iteration we can calculate the potential upto k-1 th row and then for kth row and then for k+1 to the final row"
   ]
  },
  {
   "cell_type": "markdown",
   "metadata": {},
   "source": [
    "## Question - d:\n",
    "This is refered from Assignment 5 given in  the Lab.\n",
    "\n",
    "Modelling the error\n",
    "Since the error varies exponentially with the number of itertaions.The equation for the error is given as,\n",
    "$$error = y = A e^{Bx}$$\n",
    "where A,B are constants and x is the number of iterations.\n",
    "\n",
    "The condition for stopping is at,\n",
    "$$ \\int_{N+0.5}^{\\infty} A e^{k} dk < \\delta $$\n",
    "\n",
    "The integration evaluates to $ - \\frac{A}{B} e^{B(N+0.5)} $\n",
    "\n",
    "Hence, $N$ is the required number of iterations taken to reach desired accuracy when the following condition holds,\n",
    "$ - \\frac{A}{B} e^{B(N+0.5)} < \\delta $"
   ]
  },
  {
   "cell_type": "code",
   "execution_count": 95,
   "metadata": {},
   "outputs": [],
   "source": [
    "def fitForError(errors, x):\n",
    "    A = zeros((len(errors), 2))\n",
    "    A[:, 0] = 1\n",
    "    A[:, 1] = x\n",
    "    return A, lstsq(A,np.log(errors), rcond=None)[0]"
   ]
  },
  {
   "cell_type": "code",
   "execution_count": 96,
   "metadata": {},
   "outputs": [],
   "source": [
    "# This function calculate phi bytaking M,N,delta,k,accuracy,N_max as parameters\n",
    "# and returns the potential matrix (phi), errors array, iteration array as output \n",
    "\n",
    "def solve_Qn_d(M,N,delta,k,accuracy,N_max): \n",
    "    \n",
    "    phi = zeros((N,M))\n",
    "    phi[0] = 1.0\n",
    "    \n",
    "    error_Array = zeros((N_max,1))\n",
    "    iteration = []\n",
    "    \n",
    "    for e in range(N_max):\n",
    "        phi_prev = phi.copy() #Previous Phi is stored\n",
    "        #calculating new Phi for m < k \n",
    "        phi[1:k,1:-1] = 0.25*(phi[1:k,0:-2]+\n",
    "                               phi[1:k,2:]+\n",
    "                               phi[0:k-1,1:-1]+\n",
    "                               phi[2:k+1,1:-1])\n",
    "        #calculating new Phi for  m =  K\n",
    "        phi[k,1:-1] = (Er_fluid* phi[k-1,1:-1] + phi[k+1,1:-1])/(Er_fluid + 1)\n",
    "        #calculating new Phi for  m > k\n",
    "        phi[k+1:-1,1:-1] = 0.25*(phi[k+1:-1,0:-2]+\n",
    "                               phi[k+1:-1,2:]+\n",
    "                               phi[k:-2,1:-1]+\n",
    "                               phi[k+2:,1:-1])\n",
    "    \n",
    "        error_Array[e] = (abs(phi-phi_prev).max()) #Calculating the error Array\n",
    "        iteration.append(e)                        #Keeping Track of the iteration\n",
    "        \n",
    "        \n",
    "    M, c = fitForError(error_Array[500:], iteration[500:]) # fitForError \n",
    "    print(\"Fit : A = %g , B = %g\" % ((exp(c[0]), c[1])))\n",
    "    A = c[0]\n",
    "    B = c[1]\n",
    "    for i in range(500,N_max):\n",
    "        error = (A*exp(B*(i+1/2)))/(-B)\n",
    "        if error < accuracy:\n",
    "            iteration_count = i+1\n",
    "            break\n",
    "    print(\"No of iterations to get the given Accurarcy is: \",iteration_count)\n",
    "    return phi,error_Array,iteration"
   ]
  },
  {
   "cell_type": "code",
   "execution_count": 97,
   "metadata": {},
   "outputs": [],
   "source": [
    "def plot_potential(N,M,phi):\n",
    "    y = linspace(0, Ly, N) #y's Range\n",
    "    x = linspace(0, Lx, M) #x's Range\n",
    "    X,Y= meshgrid(x,-y) #Meshgrid\n",
    "    \n",
    "    fig1 = figure(figsize = (10,7))\n",
    "    ax1 = fig1.add_subplot(111)\n",
    "    plt1 = ax1.contourf(X,Y,phi, cmap=cm.jet, clabel=\"$\\phi$\")\n",
    "    title(\"Figure 1 : Contour Plot of $\\phi$\")\n",
    "    ax = gca()\n",
    "    fig1.colorbar(plt1, ax=ax, orientation='vertical')\n",
    "    xlabel(\"$x$\")\n",
    "    ylabel(\"$y$\")\n",
    "    show()\n",
    "\n",
    "def plot_error(error,iteration):\n",
    "    fig = figure(figsize=(10,7))\n",
    "    ax = fig.add_subplot(111)\n",
    "    ax.plot(iteration[50:500], error[:iteration[-1]+1][50:500], 'go',markersize = 2.5)\n",
    "    title('Error Vs No. of iterations')\n",
    "    xlabel('No. of iters')\n",
    "    ylabel('Error')\n",
    "    show()"
   ]
  },
  {
   "cell_type": "code",
   "execution_count": 98,
   "metadata": {},
   "outputs": [
    {
     "name": "stdout",
     "output_type": "stream",
     "text": [
      "Fit : A = 0.000134215 , B = -0.0001874\n",
      "No of iterations to get the given Accurarcy is:  501\n"
     ]
    },
    {
     "name": "stderr",
     "output_type": "stream",
     "text": [
      "c:\\users\\tamilsudaravan\\appdata\\local\\programs\\python\\python37\\lib\\site-packages\\ipykernel_launcher.py:8: UserWarning: The following kwargs were not used by contour: 'clabel'\n",
      "  \n"
     ]
    },
    {
     "data": {
      "image/png": "[encoded data removed]",
      "text/plain": [
       "<Figure size 720x504 with 2 Axes>"
      ]
     },
     "metadata": {
      "needs_background": "light"
     },
     "output_type": "display_data"
    },
    {
     "data": {
      "image/png": "[encoded data removed]",
      "text/plain": [
       "<Figure size 720x504 with 1 Axes>"
      ]
     },
     "metadata": {
      "needs_background": "light"
     },
     "output_type": "display_data"
    }
   ],
   "source": [
    "phi,error_Array,iteration = solve_Qn_d(M,N,delta,k,accuracy,N_max)\n",
    "plot_potential(N,M,phi)\n",
    "plot_error(error_Array,iteration)"
   ]
  },
  {
   "cell_type": "markdown",
   "metadata": {},
   "source": [
    "## Question - e:\n",
    "We know that, \\$E =\\frac{QA}{\\epsilon_0}$\n",
    "From this, We can say that the charge is proportional to the electric field.\n",
    "From the boundary condition of Maxwell's Law we can find the field which is proportional to the corresponding charge"
   ]
  },
  {
   "cell_type": "code",
   "execution_count": 99,
   "metadata": {},
   "outputs": [
    {
     "name": "stdout",
     "output_type": "stream",
     "text": [
      "Fit : A = 0.000134215 , B = -0.0001874\n",
      "No of iterations to get the given Accurarcy is:  501\n",
      "Charge on the Top:  173.31013643308188\n",
      "Charge on the Fluid:  0.7060972504782107\n",
      "Fit : A = 0.000170572 , B = -0.00019494\n",
      "No of iterations to get the given Accurarcy is:  501\n",
      "Fit : A = 0.000142293 , B = -0.000174308\n",
      "No of iterations to get the given Accurarcy is:  501\n",
      "Fit : A = 0.000126339 , B = -0.000171464\n",
      "No of iterations to get the given Accurarcy is:  501\n",
      "Fit : A = 0.000130908 , B = -0.000182777\n",
      "No of iterations to get the given Accurarcy is:  501\n",
      "Fit : A = 0.000134215 , B = -0.0001874\n",
      "No of iterations to get the given Accurarcy is:  501\n",
      "Fit : A = 0.000134719 , B = -0.000188021\n",
      "No of iterations to get the given Accurarcy is:  501\n",
      "Fit : A = 0.000134753 , B = -0.000188061\n",
      "No of iterations to get the given Accurarcy is:  501\n",
      "Fit : A = 0.000134754 , B = -0.000188063\n",
      "No of iterations to get the given Accurarcy is:  501\n",
      "Fit : A = 0.000134755 , B = -0.000188063\n",
      "No of iterations to get the given Accurarcy is:  501\n"
     ]
    },
    {
     "data": {
      "image/png": "[encoded data removed]",
      "text/plain": [
       "<Figure size 1440x720 with 2 Axes>"
      ]
     },
     "metadata": {
      "needs_background": "light"
     },
     "output_type": "display_data"
    }
   ],
   "source": [
    "def Charge(M,N,delta,k,accuracy,N_max):\n",
    "    delY = 20/N\n",
    "    delX = 10/M\n",
    "    \n",
    "    phi,error_Array,iteration = solve_Qn_d(M,N,delta,k,accuracy,N_max)\n",
    "\n",
    "    # Charge at the top\n",
    "    qTop = 0\n",
    "    E_Normal_Top = sum(phi[0] - phi[1])/delY\n",
    "    qTop = E_Normal_Top\n",
    "\n",
    "    # Charge on Fluid is proportional to Electric Field on left+right+bottom\n",
    "    \n",
    "    qFluid = 0\n",
    "    E_Normal_Bottom = sum(phi[N-2,1:M-1])/delY\n",
    "    E_Normal_Left = sum(phi[k+1:N,1])/delX\n",
    "    E_Normal_Right = sum(phi[k+1:N,-2])/delX\n",
    "    qFluid = E_Normal_Bottom + E_Normal_Left + E_Normal_Right\n",
    "    \n",
    "    return qFluid,qTop\n",
    "\n",
    "Q_Fluid,Q_Top = Charge(M,N,delta,N//2,accuracy,N_max)  #At h = 0.5 * Ly\n",
    "\n",
    "print(\"Charge on the Top: \", Q_Top)\n",
    "print(\"Charge on the Fluid: \", Q_Fluid)\n",
    "\n",
    "def Plot_Charge():\n",
    "    qFluid = []\n",
    "    qTop = []\n",
    "    k = linspace(0,0.9,10)\n",
    "    for i in range(1,10):\n",
    "        k_val = int(k[i]*N)\n",
    "#         print(k_val)\n",
    "        qf,qt = Charge(M,N,delta,k_val,accuracy,N_max)\n",
    "        qFluid.append(qf)\n",
    "        qTop.append(qt)\n",
    "    fig = figure(figsize = (20,10))\n",
    "    \n",
    "    ax1 = fig.add_subplot(121)\n",
    "    ax2 = fig.add_subplot(122)\n",
    "    #Plotting Charge on Top vs h/Ly\n",
    "    h = linspace(0.1,0.9,9)\n",
    "    ax1.plot(h,qTop)\n",
    "    ax1.set_xlabel('h/Ly Ratio')\n",
    "    ax1.set_ylabel('$Q_{top}$')\n",
    "    #Plotting Charge on Fluid vs h/Lx\n",
    "    ax2.plot(h,qFluid)\n",
    "    ax2.set_xlabel('h/Lx Ratio')\n",
    "    ax2.set_ylabel('$Q_{Fluid}$')\n",
    "    \n",
    "    show()\n",
    "    \n",
    "Plot_Charge()"
   ]
  },
  {
   "cell_type": "markdown",
   "metadata": {},
   "source": [
    "#### Inference:\n",
    "From the plot we can conclude that the charge is not linearly proportional to the height h"
   ]
  },
  {
   "cell_type": "markdown",
   "metadata": {},
   "source": [
    "### Quetion - f:\n",
    "The continuity equation is given by \\$D_{n_1}$ = $D_{n_2}$,\n",
    "Where ${D_n}$ = $\\epsilon_r$  ${E_n}$"
   ]
  },
  {
   "cell_type": "code",
   "execution_count": 100,
   "metadata": {
    "scrolled": true
   },
   "outputs": [
    {
     "name": "stdout",
     "output_type": "stream",
     "text": [
      "Fit : A = 0.000134215 , B = -0.0001874\n",
      "No of iterations to get the given Accurarcy is:  501\n"
     ]
    }
   ],
   "source": [
    "phi,error,iteration = solve_Qn_d(M,N,delta,k,accuracy,N_max)\n",
    "k_val = 0.5*N"
   ]
  },
  {
   "cell_type": "code",
   "execution_count": 101,
   "metadata": {},
   "outputs": [
    {
     "name": "stdout",
     "output_type": "stream",
     "text": [
      "Parrallel Component of Electric Field (Ex):  1.9450699049270578e-07\n",
      "\n",
      "Perpendicular Component of Electric Field in air (Ey_air):  0.01595609353817036\n",
      "Perpendicular Component of Electric Field in Fluid (Ey_fluid) 0.00800421160672235\n",
      "\n",
      "Dn_air:  0.01595609353817036\n",
      "Dn_fluid 0.0160084232134447\n"
     ]
    }
   ],
   "source": [
    "def solve_Qn_f(M,N,delta,k_val,accuracy,N_max):\n",
    "    delY = 20/N\n",
    "    delX = 10/M\n",
    "    \n",
    "    Ex =-1 * (phi[N//2 ,M//2 + 1] - phi[N//2, M//2 - 1])/2*delX\n",
    "    Ey_air = -1 * (phi[N//2 + 1,M//2] - phi[N//2, M//2])/delY\n",
    "    Ey_fluid = -1 * (phi[N//2,M//2] - phi[N//2 - 1, M//2])/delY\n",
    "    print(\"Parrallel Component of Electric Field (Ex): \",Ex)\n",
    "    print('')\n",
    "    print('Perpendicular Component of Electric Field in air (Ey_air): ',Ey_air)\n",
    "    print('Perpendicular Component of Electric Field in Fluid (Ey_fluid)', Ey_fluid)\n",
    "    print('')\n",
    "    print('Dn_air: ',Ey_air*Er_air)\n",
    "    print('Dn_fluid', Ey_fluid*Er_fluid)\n",
    "    \n",
    "    return Ex,Ey_air,Ey_fluid\n",
    "    \n",
    "Ex,Ey_air,Ey_fluid = solve_Qn_f(M,N,delta,k_val,accuracy,N_max)"
   ]
  },
  {
   "cell_type": "markdown",
   "metadata": {},
   "source": [
    "We can see that the Dn value in air and fluid turns out to be same. So the Continuity equation holds here.\n",
    "Hence, Contuinity equation is verified"
   ]
  },
  {
   "cell_type": "markdown",
   "metadata": {},
   "source": [
    "## Question - g:\n",
    "\n",
    "Snell's Law states that \n",
    "$$ \\frac{sin(i)}{sin(r)} = \\frac{n_2}{n_1} $$\n",
    "\n",
    "where \\$n_1$ and $n_2$, is the refractive index of the mediums.\n",
    "\n",
    "Considering same permiability of the two medium to be same, we can say that,\n",
    "$$ \\frac{n_2}{n_1}=\\frac{1}{\\sqrt{\\epsilon_r}} $$\n",
    "\n",
    "Only a electromgnetic wave is expected to follow snells law. Here we have a electric field which doesn't change with time. So we expect the field to not follow $Snell's Law$."
   ]
  },
  {
   "cell_type": "code",
   "execution_count": 102,
   "metadata": {
    "scrolled": true
   },
   "outputs": [
    {
     "name": "stdout",
     "output_type": "stream",
     "text": [
      "Incident Angle:  0.0006984434889286286\n",
      "Refracted Angle:  0.0013923207164425713\n",
      "\n",
      "Change in Angle:  0.0006938772275139428\n",
      "\n",
      "Ratio of sines of the angle:  0.5016398023327693\n",
      "Refractive Index ratio:  0.7071067811865476\n"
     ]
    }
   ],
   "source": [
    "def solve_Qn_g():\n",
    "    theta_i = degrees(atan(1/(Ey_air/Ex)))\n",
    "    theta_r = degrees(atan(1/(Ey_fluid/Ex)))\n",
    "    Nr = sin(radians(theta_i))\n",
    "    Dr = sin(radians(theta_r))\n",
    "    print(\"Incident Angle: \", theta_i)\n",
    "    print(\"Refracted Angle: \", theta_r)\n",
    "    print('')\n",
    "    print(\"Change in Angle: \", abs(theta_i-theta_r))\n",
    "    print('')\n",
    "    print(\"Ratio of sines of the angle: \", Nr/Dr)\n",
    "    print(\"Refractive Index ratio: \", sqrt(Er_air/Er_fluid))\n",
    "solve_Qn_g()"
   ]
  },
  {
   "cell_type": "markdown",
   "metadata": {},
   "source": [
    "As expected the ratio of sines is not matching with the ratio of refractive indices we have. So Snells Law is not obeyed"
   ]
  }
 ],
 "metadata": {
  "kernelspec": {
   "display_name": "Python 3",
   "language": "python",
   "name": "python3"
  },
  "language_info": {
   "codemirror_mode": {
    "name": "ipython",
    "version": 3
   },
   "file_extension": ".py",
   "mimetype": "text/x-python",
   "name": "python",
   "nbconvert_exporter": "python",
   "pygments_lexer": "ipython3",
   "version": "3.7.6"
  }
 },
 "nbformat": 4,
 "nbformat_minor": 2
}
