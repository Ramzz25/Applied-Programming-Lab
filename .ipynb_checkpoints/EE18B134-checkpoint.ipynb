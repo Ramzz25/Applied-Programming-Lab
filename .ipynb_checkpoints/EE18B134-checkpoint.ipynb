{
 "cells": [
  {
   "cell_type": "markdown",
   "metadata": {},
   "source": [
    "# End Semester Examination \n",
    "## Applied Programming Lab EE2703\n",
    "\n",
    "### Submitted By J. Kaousheik [EE18B134]"
   ]
  },
  {
   "cell_type": "markdown",
   "metadata": {},
   "source": [
    "### 2. Finding h for a given resonant frequency\n",
    "\n",
    "Given that the circuit is a series RLC circuit.\n",
    "\n",
    "For a Resonant frequency $\\omega$, Series resistance R, and the inductance L, and Capacitance C,\n",
    "\n",
    "the resonant frequency is defined as\n",
    "\\begin{equation}\n",
    "\\omega =1\\div\\sqrt{LC}\n",
    "\\end{equation}\n",
    "\n",
    "So for a given L and $\\omega$ the capacitance can be calculated as \n",
    "\\begin{equation}\n",
    "   C = 1\\div\\omega^{2}L\n",
    "\\end{equation}\n",
    "\n",
    "We know that for a parallel plate capacitor with partially filled dielectric,\n",
    "\n",
    "with Area A, Total height d, height of dielctric filled t with dielectric constant k,   \n",
    "the Capacitance C  can be calculated as \n",
    "\\begin{equation}\n",
    "    C = (A \\epsilon_o)\\div(d-t + t\\div(k))\n",
    "\\end{equation}\n",
    "\n",
    "In the case of the water Tank, \n",
    "the total height is \\$L_y$,\n",
    "height of dielectric is h,\n",
    "lets assume area to be A,\n",
    "and dielectric constant $\\epsilon_r$ \n",
    "\n",
    "so Capacitance becomes \n",
    "\\begin{equation}\n",
    "    C = (A \\epsilon_o)\\div(L_y - h + h\\div\\epsilon_r)\n",
    "\\end{equation}\n",
    "\n",
    "the value of h thus becomes,\n",
    "\\begin{equation}\n",
    "    h = (A\\epsilon_o\\omega^{2}L - L_y)\\epsilon_r \\div(1 - \\epsilon_r)\n",
    "\\end{equation}\n",
    "\n",
    "Substituting $\\epsilon_r$ = 2, \\$L_y$ = 0.2 m, we get \n",
    "\\begin{equation}\n",
    "    h = 2 * (0.2 - A\\epsilon_o\\omega^{2}L)\n",
    "\\end{equation}"
   ]
  },
  {
   "cell_type": "markdown",
   "metadata": {},
   "source": [
    "### 3. Parallelizing the computation\n",
    "\n",
    "While iterating over the 2D grid we need to calculate separately for \\$m$ = k.\n",
    "We know how to update the potential for the whole grid (reference: Assignment 5).\n",
    "\n",
    "We can implement it here by calculating separately for \n",
    "\n",
    "1. 0 to \\$(k-1)^{th}$ row, \n",
    "\n",
    "2. \\$k^{th}$ row\n",
    "\n",
    "3. \\$(k+1)^{th}$ row to Last row, in a single iterations\n",
    "\n",
    "By this the complexity of the code does not change as the number of iterations is the same. Hence I feel this is the best way to Parallelize the computation\n"
   ]
  },
  {
   "cell_type": "markdown",
   "metadata": {},
   "source": [
    "#### Legends\n",
    "\n",
    "1. M = 100 - row grid\n",
    "2. N = 200 - column grid\n",
    "3. E_r = 2 - Dielectric constant of medium\n",
    "4. E_o - Dielectric constant of air"
   ]
  },
  {
   "cell_type": "markdown",
   "metadata": {},
   "source": [
    "### 4.Function to calculate the potential matrix "
   ]
  },
  {
   "cell_type": "code",
   "execution_count": 1,
   "metadata": {},
   "outputs": [],
   "source": [
    "# neccessary libraries\n",
    "import numpy as np\n",
    "from pylab import *\n",
    "import math as math\n",
    "import warnings;\n",
    "warnings.filterwarnings('ignore')"
   ]
  },
  {
   "cell_type": "code",
   "execution_count": 2,
   "metadata": {},
   "outputs": [],
   "source": [
    "#Global Variables\n",
    "# Chosen such that the grid width in both directions is 0.1cm\n",
    "M = 100\n",
    "N = 200\n",
    "\n",
    "\n",
    "Niter = 40000\n",
    "H_1 = 80 \n",
    "E_r = 2\n",
    "delta = 1.0e-05 "
   ]
  },
  {
   "cell_type": "code",
   "execution_count": 3,
   "metadata": {},
   "outputs": [],
   "source": [
    "# Function to calculate phi taking M, N, k, delta and Niter as parameters\n",
    "# funtion returns the potential matrix (phi), errors array \n",
    "# and the number of iterations it took to achive the accurary of delta\n",
    "def lap(M, N, k, delta, N_o):\n",
    "    phi = np.zeros((N, M)) # initial null matrix\n",
    "    errors = zeros(N_o)  # error array\n",
    "    iters = []  #iterations array\n",
    "    \n",
    "    # initializing the top row as potential 1.0 Volt\n",
    "    phi[0,:] = 1\n",
    "    for i in range(N_o):\n",
    "        # copying the current potential to calculate error\n",
    "        oldphi = phi.copy()\n",
    "        \n",
    "        # Updating potential from row 0 to row k-1\n",
    "        phi[1:k, 1:-1] = 0.25 * \\\n",
    "            (phi[1:k, 0:-2]+phi[1:k, 2:]+phi[0:k-1, 1:-1]+phi[2:k+1, 1:-1])\n",
    "        \n",
    "        # Updating row k\n",
    "        phi[k] = (phi[k+1]*E_r + phi[k-1])/(1+E_r)\n",
    "        \n",
    "        # Updating row k+1 to 200\n",
    "        phi[k+1:-1, 1:-1] = 0.25 * \\\n",
    "            (phi[k+1:-1, 0:-2]+phi[k+1:-1, 2:]+phi[k:-2, 1:-1]+phi[k+2:, 1:-1])\n",
    "        \n",
    "        # Calculating the error\n",
    "        errors[i] = (abs(phi-oldphi)).max()\n",
    "        iters.append(i)\n",
    "        \n",
    "    # Checing for accuracy\n",
    "    temp = zeros((len(errors[500:]), 2))\n",
    "    temp[:, 0] = 1\n",
    "    temp[:, 1] = range(N_o)[500:]\n",
    "    leastSqr = lstsq(temp, log(errors[500:]), rcond=None)[0]\n",
    "    A = exp(leastSqr[0])\n",
    "    B = leastSqr[1]\n",
    "    for j in range(500,N_o):\n",
    "        err = (A*((exp(B*(j+0.5)))))/(-B)\n",
    "        if(err < delta):\n",
    "            break\n",
    "            \n",
    "    return (phi, iters, errors)\n"
   ]
  },
  {
   "cell_type": "code",
   "execution_count": 4,
   "metadata": {},
   "outputs": [
    {
     "name": "stdout",
     "output_type": "stream",
     "text": [
      "No of iterations 30000\n"
     ]
    },
    {
     "ename": "TypeError",
     "evalue": "Shape of x does not match that of z: found (400, 100) instead of (400, 200).",
     "output_type": "error",
     "traceback": [
      "\u001b[1;31m---------------------------------------------------------------------------\u001b[0m",
      "\u001b[1;31mTypeError\u001b[0m                                 Traceback (most recent call last)",
      "\u001b[1;32m<ipython-input-4-3633a2204fce>\u001b[0m in \u001b[0;36m<module>\u001b[1;34m\u001b[0m\n\u001b[0;32m      9\u001b[0m \u001b[0mfig6\u001b[0m \u001b[1;33m=\u001b[0m \u001b[0mfigure\u001b[0m\u001b[1;33m(\u001b[0m\u001b[1;33m)\u001b[0m\u001b[1;33m\u001b[0m\u001b[1;33m\u001b[0m\u001b[0m\n\u001b[0;32m     10\u001b[0m \u001b[0max6\u001b[0m \u001b[1;33m=\u001b[0m \u001b[0mfig6\u001b[0m\u001b[1;33m.\u001b[0m\u001b[0madd_subplot\u001b[0m\u001b[1;33m(\u001b[0m\u001b[1;36m111\u001b[0m\u001b[1;33m)\u001b[0m\u001b[1;33m\u001b[0m\u001b[1;33m\u001b[0m\u001b[0m\n\u001b[1;32m---> 11\u001b[1;33m \u001b[0mplt6\u001b[0m \u001b[1;33m=\u001b[0m \u001b[0max6\u001b[0m\u001b[1;33m.\u001b[0m\u001b[0mcontourf\u001b[0m\u001b[1;33m(\u001b[0m\u001b[0mX\u001b[0m\u001b[1;33m,\u001b[0m \u001b[0mY\u001b[0m\u001b[1;33m,\u001b[0m \u001b[0mphi\u001b[0m\u001b[1;33m,\u001b[0m \u001b[0mcmap\u001b[0m\u001b[1;33m=\u001b[0m\u001b[0mcm\u001b[0m\u001b[1;33m.\u001b[0m\u001b[0mjet\u001b[0m\u001b[1;33m)\u001b[0m\u001b[1;33m\u001b[0m\u001b[1;33m\u001b[0m\u001b[0m\n\u001b[0m\u001b[0;32m     12\u001b[0m \u001b[0mtitle\u001b[0m\u001b[1;33m(\u001b[0m\u001b[1;34m\"Contour plot of Updated potential $\\phi$\"\u001b[0m\u001b[1;33m)\u001b[0m\u001b[1;33m\u001b[0m\u001b[1;33m\u001b[0m\u001b[0m\n\u001b[0;32m     13\u001b[0m \u001b[0max\u001b[0m \u001b[1;33m=\u001b[0m \u001b[0mgca\u001b[0m\u001b[1;33m(\u001b[0m\u001b[1;33m)\u001b[0m\u001b[1;33m\u001b[0m\u001b[1;33m\u001b[0m\u001b[0m\n",
      "\u001b[1;32m~\\anaconda3\\lib\\site-packages\\matplotlib\\__init__.py\u001b[0m in \u001b[0;36minner\u001b[1;34m(ax, data, *args, **kwargs)\u001b[0m\n\u001b[0;32m   1597\u001b[0m     \u001b[1;32mdef\u001b[0m \u001b[0minner\u001b[0m\u001b[1;33m(\u001b[0m\u001b[0max\u001b[0m\u001b[1;33m,\u001b[0m \u001b[1;33m*\u001b[0m\u001b[0margs\u001b[0m\u001b[1;33m,\u001b[0m \u001b[0mdata\u001b[0m\u001b[1;33m=\u001b[0m\u001b[1;32mNone\u001b[0m\u001b[1;33m,\u001b[0m \u001b[1;33m**\u001b[0m\u001b[0mkwargs\u001b[0m\u001b[1;33m)\u001b[0m\u001b[1;33m:\u001b[0m\u001b[1;33m\u001b[0m\u001b[1;33m\u001b[0m\u001b[0m\n\u001b[0;32m   1598\u001b[0m         \u001b[1;32mif\u001b[0m \u001b[0mdata\u001b[0m \u001b[1;32mis\u001b[0m \u001b[1;32mNone\u001b[0m\u001b[1;33m:\u001b[0m\u001b[1;33m\u001b[0m\u001b[1;33m\u001b[0m\u001b[0m\n\u001b[1;32m-> 1599\u001b[1;33m             \u001b[1;32mreturn\u001b[0m \u001b[0mfunc\u001b[0m\u001b[1;33m(\u001b[0m\u001b[0max\u001b[0m\u001b[1;33m,\u001b[0m \u001b[1;33m*\u001b[0m\u001b[0mmap\u001b[0m\u001b[1;33m(\u001b[0m\u001b[0msanitize_sequence\u001b[0m\u001b[1;33m,\u001b[0m \u001b[0margs\u001b[0m\u001b[1;33m)\u001b[0m\u001b[1;33m,\u001b[0m \u001b[1;33m**\u001b[0m\u001b[0mkwargs\u001b[0m\u001b[1;33m)\u001b[0m\u001b[1;33m\u001b[0m\u001b[1;33m\u001b[0m\u001b[0m\n\u001b[0m\u001b[0;32m   1600\u001b[0m \u001b[1;33m\u001b[0m\u001b[0m\n\u001b[0;32m   1601\u001b[0m         \u001b[0mbound\u001b[0m \u001b[1;33m=\u001b[0m \u001b[0mnew_sig\u001b[0m\u001b[1;33m.\u001b[0m\u001b[0mbind\u001b[0m\u001b[1;33m(\u001b[0m\u001b[0max\u001b[0m\u001b[1;33m,\u001b[0m \u001b[1;33m*\u001b[0m\u001b[0margs\u001b[0m\u001b[1;33m,\u001b[0m \u001b[1;33m**\u001b[0m\u001b[0mkwargs\u001b[0m\u001b[1;33m)\u001b[0m\u001b[1;33m\u001b[0m\u001b[1;33m\u001b[0m\u001b[0m\n",
      "\u001b[1;32m~\\anaconda3\\lib\\site-packages\\matplotlib\\axes\\_axes.py\u001b[0m in \u001b[0;36mcontourf\u001b[1;34m(self, *args, **kwargs)\u001b[0m\n\u001b[0;32m   6428\u001b[0m     \u001b[1;32mdef\u001b[0m \u001b[0mcontourf\u001b[0m\u001b[1;33m(\u001b[0m\u001b[0mself\u001b[0m\u001b[1;33m,\u001b[0m \u001b[1;33m*\u001b[0m\u001b[0margs\u001b[0m\u001b[1;33m,\u001b[0m \u001b[1;33m**\u001b[0m\u001b[0mkwargs\u001b[0m\u001b[1;33m)\u001b[0m\u001b[1;33m:\u001b[0m\u001b[1;33m\u001b[0m\u001b[1;33m\u001b[0m\u001b[0m\n\u001b[0;32m   6429\u001b[0m         \u001b[0mkwargs\u001b[0m\u001b[1;33m[\u001b[0m\u001b[1;34m'filled'\u001b[0m\u001b[1;33m]\u001b[0m \u001b[1;33m=\u001b[0m \u001b[1;32mTrue\u001b[0m\u001b[1;33m\u001b[0m\u001b[1;33m\u001b[0m\u001b[0m\n\u001b[1;32m-> 6430\u001b[1;33m         \u001b[0mcontours\u001b[0m \u001b[1;33m=\u001b[0m \u001b[0mmcontour\u001b[0m\u001b[1;33m.\u001b[0m\u001b[0mQuadContourSet\u001b[0m\u001b[1;33m(\u001b[0m\u001b[0mself\u001b[0m\u001b[1;33m,\u001b[0m \u001b[1;33m*\u001b[0m\u001b[0margs\u001b[0m\u001b[1;33m,\u001b[0m \u001b[1;33m**\u001b[0m\u001b[0mkwargs\u001b[0m\u001b[1;33m)\u001b[0m\u001b[1;33m\u001b[0m\u001b[1;33m\u001b[0m\u001b[0m\n\u001b[0m\u001b[0;32m   6431\u001b[0m         \u001b[0mself\u001b[0m\u001b[1;33m.\u001b[0m\u001b[0mautoscale_view\u001b[0m\u001b[1;33m(\u001b[0m\u001b[1;33m)\u001b[0m\u001b[1;33m\u001b[0m\u001b[1;33m\u001b[0m\u001b[0m\n\u001b[0;32m   6432\u001b[0m         \u001b[1;32mreturn\u001b[0m \u001b[0mcontours\u001b[0m\u001b[1;33m\u001b[0m\u001b[1;33m\u001b[0m\u001b[0m\n",
      "\u001b[1;32m~\\anaconda3\\lib\\site-packages\\matplotlib\\contour.py\u001b[0m in \u001b[0;36m__init__\u001b[1;34m(self, ax, levels, filled, linewidths, linestyles, alpha, origin, extent, cmap, colors, norm, vmin, vmax, extend, antialiased, *args, **kwargs)\u001b[0m\n\u001b[0;32m    853\u001b[0m         \u001b[0mself\u001b[0m\u001b[1;33m.\u001b[0m\u001b[0m_transform\u001b[0m \u001b[1;33m=\u001b[0m \u001b[0mkwargs\u001b[0m\u001b[1;33m.\u001b[0m\u001b[0mpop\u001b[0m\u001b[1;33m(\u001b[0m\u001b[1;34m'transform'\u001b[0m\u001b[1;33m,\u001b[0m \u001b[1;32mNone\u001b[0m\u001b[1;33m)\u001b[0m\u001b[1;33m\u001b[0m\u001b[1;33m\u001b[0m\u001b[0m\n\u001b[0;32m    854\u001b[0m \u001b[1;33m\u001b[0m\u001b[0m\n\u001b[1;32m--> 855\u001b[1;33m         \u001b[0mkwargs\u001b[0m \u001b[1;33m=\u001b[0m \u001b[0mself\u001b[0m\u001b[1;33m.\u001b[0m\u001b[0m_process_args\u001b[0m\u001b[1;33m(\u001b[0m\u001b[1;33m*\u001b[0m\u001b[0margs\u001b[0m\u001b[1;33m,\u001b[0m \u001b[1;33m**\u001b[0m\u001b[0mkwargs\u001b[0m\u001b[1;33m)\u001b[0m\u001b[1;33m\u001b[0m\u001b[1;33m\u001b[0m\u001b[0m\n\u001b[0m\u001b[0;32m    856\u001b[0m         \u001b[0mself\u001b[0m\u001b[1;33m.\u001b[0m\u001b[0m_process_levels\u001b[0m\u001b[1;33m(\u001b[0m\u001b[1;33m)\u001b[0m\u001b[1;33m\u001b[0m\u001b[1;33m\u001b[0m\u001b[0m\n\u001b[0;32m    857\u001b[0m \u001b[1;33m\u001b[0m\u001b[0m\n",
      "\u001b[1;32m~\\anaconda3\\lib\\site-packages\\matplotlib\\contour.py\u001b[0m in \u001b[0;36m_process_args\u001b[1;34m(self, *args, **kwargs)\u001b[0m\n\u001b[0;32m   1454\u001b[0m                 \u001b[0mself\u001b[0m\u001b[1;33m.\u001b[0m\u001b[0m_corner_mask\u001b[0m \u001b[1;33m=\u001b[0m \u001b[0mmpl\u001b[0m\u001b[1;33m.\u001b[0m\u001b[0mrcParams\u001b[0m\u001b[1;33m[\u001b[0m\u001b[1;34m'contour.corner_mask'\u001b[0m\u001b[1;33m]\u001b[0m\u001b[1;33m\u001b[0m\u001b[1;33m\u001b[0m\u001b[0m\n\u001b[0;32m   1455\u001b[0m \u001b[1;33m\u001b[0m\u001b[0m\n\u001b[1;32m-> 1456\u001b[1;33m             \u001b[0mx\u001b[0m\u001b[1;33m,\u001b[0m \u001b[0my\u001b[0m\u001b[1;33m,\u001b[0m \u001b[0mz\u001b[0m \u001b[1;33m=\u001b[0m \u001b[0mself\u001b[0m\u001b[1;33m.\u001b[0m\u001b[0m_contour_args\u001b[0m\u001b[1;33m(\u001b[0m\u001b[0margs\u001b[0m\u001b[1;33m,\u001b[0m \u001b[0mkwargs\u001b[0m\u001b[1;33m)\u001b[0m\u001b[1;33m\u001b[0m\u001b[1;33m\u001b[0m\u001b[0m\n\u001b[0m\u001b[0;32m   1457\u001b[0m \u001b[1;33m\u001b[0m\u001b[0m\n\u001b[0;32m   1458\u001b[0m             \u001b[0m_mask\u001b[0m \u001b[1;33m=\u001b[0m \u001b[0mma\u001b[0m\u001b[1;33m.\u001b[0m\u001b[0mgetmask\u001b[0m\u001b[1;33m(\u001b[0m\u001b[0mz\u001b[0m\u001b[1;33m)\u001b[0m\u001b[1;33m\u001b[0m\u001b[1;33m\u001b[0m\u001b[0m\n",
      "\u001b[1;32m~\\anaconda3\\lib\\site-packages\\matplotlib\\contour.py\u001b[0m in \u001b[0;36m_contour_args\u001b[1;34m(self, args, kwargs)\u001b[0m\n\u001b[0;32m   1512\u001b[0m             \u001b[0margs\u001b[0m \u001b[1;33m=\u001b[0m \u001b[0margs\u001b[0m\u001b[1;33m[\u001b[0m\u001b[1;36m1\u001b[0m\u001b[1;33m:\u001b[0m\u001b[1;33m]\u001b[0m\u001b[1;33m\u001b[0m\u001b[1;33m\u001b[0m\u001b[0m\n\u001b[0;32m   1513\u001b[0m         \u001b[1;32melif\u001b[0m \u001b[0mNargs\u001b[0m \u001b[1;33m<=\u001b[0m \u001b[1;36m4\u001b[0m\u001b[1;33m:\u001b[0m\u001b[1;33m\u001b[0m\u001b[1;33m\u001b[0m\u001b[0m\n\u001b[1;32m-> 1514\u001b[1;33m             \u001b[0mx\u001b[0m\u001b[1;33m,\u001b[0m \u001b[0my\u001b[0m\u001b[1;33m,\u001b[0m \u001b[0mz\u001b[0m \u001b[1;33m=\u001b[0m \u001b[0mself\u001b[0m\u001b[1;33m.\u001b[0m\u001b[0m_check_xyz\u001b[0m\u001b[1;33m(\u001b[0m\u001b[0margs\u001b[0m\u001b[1;33m[\u001b[0m\u001b[1;33m:\u001b[0m\u001b[1;36m3\u001b[0m\u001b[1;33m]\u001b[0m\u001b[1;33m,\u001b[0m \u001b[0mkwargs\u001b[0m\u001b[1;33m)\u001b[0m\u001b[1;33m\u001b[0m\u001b[1;33m\u001b[0m\u001b[0m\n\u001b[0m\u001b[0;32m   1515\u001b[0m             \u001b[0margs\u001b[0m \u001b[1;33m=\u001b[0m \u001b[0margs\u001b[0m\u001b[1;33m[\u001b[0m\u001b[1;36m3\u001b[0m\u001b[1;33m:\u001b[0m\u001b[1;33m]\u001b[0m\u001b[1;33m\u001b[0m\u001b[1;33m\u001b[0m\u001b[0m\n\u001b[0;32m   1516\u001b[0m         \u001b[1;32melse\u001b[0m\u001b[1;33m:\u001b[0m\u001b[1;33m\u001b[0m\u001b[1;33m\u001b[0m\u001b[0m\n",
      "\u001b[1;32m~\\anaconda3\\lib\\site-packages\\matplotlib\\contour.py\u001b[0m in \u001b[0;36m_check_xyz\u001b[1;34m(self, args, kwargs)\u001b[0m\n\u001b[0;32m   1573\u001b[0m             \u001b[1;32mif\u001b[0m \u001b[0mx\u001b[0m\u001b[1;33m.\u001b[0m\u001b[0mshape\u001b[0m \u001b[1;33m!=\u001b[0m \u001b[0mz\u001b[0m\u001b[1;33m.\u001b[0m\u001b[0mshape\u001b[0m\u001b[1;33m:\u001b[0m\u001b[1;33m\u001b[0m\u001b[1;33m\u001b[0m\u001b[0m\n\u001b[0;32m   1574\u001b[0m                 raise TypeError(\"Shape of x does not match that of z: found \"\n\u001b[1;32m-> 1575\u001b[1;33m                                 \"{0} instead of {1}.\".format(x.shape, z.shape))\n\u001b[0m\u001b[0;32m   1576\u001b[0m \u001b[1;33m\u001b[0m\u001b[0m\n\u001b[0;32m   1577\u001b[0m             \u001b[1;32mif\u001b[0m \u001b[0my\u001b[0m\u001b[1;33m.\u001b[0m\u001b[0mshape\u001b[0m \u001b[1;33m!=\u001b[0m \u001b[0mz\u001b[0m\u001b[1;33m.\u001b[0m\u001b[0mshape\u001b[0m\u001b[1;33m:\u001b[0m\u001b[1;33m\u001b[0m\u001b[1;33m\u001b[0m\u001b[0m\n",
      "\u001b[1;31mTypeError\u001b[0m: Shape of x does not match that of z: found (400, 100) instead of (400, 200)."
     ]
    },
    {
     "data": {
      "image/png": "[encoded data removed]",
      "text/plain": [
       "<Figure size 432x288 with 1 Axes>"
      ]
     },
     "metadata": {
      "needs_background": "light"
     },
     "output_type": "display_data"
    }
   ],
   "source": [
    "phi, iters, errors = lap(200, 400, 170, (5.7)*(10**(-3)), 30000)\n",
    "\n",
    "print(\"No of iterations\", len(iters))\n",
    "y = linspace(0, 20, 400)  # range of y\n",
    "x = linspace(0, 10, M)  # range of x\n",
    "X, Y = meshgrid(x, -y)  # meshgrid to show in the plot\n",
    "\n",
    "# Contour plot of the final potential matrix whose error is less than delta\n",
    "fig6 = figure()\n",
    "ax6 = fig6.add_subplot(111)\n",
    "plt6 = ax6.contourf(X, Y, phi, cmap=cm.jet)\n",
    "title(\"Contour plot of Updated potential $\\phi$\")\n",
    "ax = gca()\n",
    "fig6.colorbar(plt6, ax=ax, orientation='vertical')\n",
    "xlabel(\"$x$\")\n",
    "ylabel(\"$y$\")\n",
    "grid()\n",
    "show()"
   ]
  },
  {
   "cell_type": "code",
   "execution_count": null,
   "metadata": {},
   "outputs": [],
   "source": [
    "errors"
   ]
  },
  {
   "cell_type": "code",
   "execution_count": 32,
   "metadata": {},
   "outputs": [
    {
     "name": "stdout",
     "output_type": "stream",
     "text": [
      "The number os iterations it took is 30000\n"
     ]
    },
    {
     "data": {
      "image/png": "[encoded data removed]",
      "text/plain": [
       "<Figure size 432x288 with 1 Axes>"
      ]
     },
     "metadata": {
      "needs_background": "light"
     },
     "output_type": "display_data"
    }
   ],
   "source": [
    "# plotting the number of iterations against the error after each iteration\n",
    "print(\"The number os iterations it took is\", len(iters))\n",
    "#semilog plot\n",
    "f = figure()\n",
    "ax = f.add_subplot(111)\n",
    "ax.plot(iters[300::50], errors[300::50], 'or')\n",
    "title('Error vs No. of iterations')\n",
    "xlabel('Iterations')\n",
    "ylabel('Error')\n",
    "show()"
   ]
  },
  {
   "cell_type": "markdown",
   "metadata": {},
   "source": [
    "### 5. Finding and plotting Q_top vs h and Q_fluid vs h\n",
    "\n",
    "To find the Charge, we can evaluate the sum of the fields on the surface, because due to Maxwell's Law \n",
    "\\begin{equation}\n",
    "     E = Q A\\div(\\epsilon_o)\n",
    "\\end{equation}\n",
    "\n",
    "This states that Q is proportional to Sum of Electric fields on all points of the surface"
   ]
  },
  {
   "cell_type": "code",
   "execution_count": null,
   "metadata": {},
   "outputs": [],
   "source": [
    "# Finding Q_Top\n",
    "h = linspace(0, 1, 11)\n",
    "h = h[1:-1]\n",
    "h = h * 200\n",
    "Q_top = []\n",
    "Q_fluid = []\n",
    "for i in range(len(h)):\n",
    "    phi, iters, errors = lap(100, 200,int(h[i]), 1.0e-05, 20000)\n",
    "    \n",
    "    # Top Surface Fiels\n",
    "    diff = phi[0] -phi[1]\n",
    "    Q_top.append(sum(diff))\n",
    "    \n",
    "    #Field on the walls from h to bottom\n",
    "    diff_walls = phi[int(h[i]):,1] - phi[int(h[i]):, 0] \\\n",
    "        + phi[int(h[i]):,-2]-phi[int(h[i]):, -1]\n",
    "\n",
    "    diff_bottom = phi[-1,:] - phi[-2,:]\n",
    "\n",
    "    Q_fluid.append(sum(diff_walls)+sum(diff_bottom))\n",
    "\n",
    "print(\"We have assumed that the h is the height of the air in the tank\")\n",
    "\n",
    "plot(h/200,Q_top, 'g', markersize = 8, label=\"Q_top\") \n",
    "legend()\n",
    "title(\"Plot of Q_top vs h\",fontsize=16)\n",
    "xlabel(r'$\\frac{h}{Lp}$', fontsize=20)\n",
    "ylabel(\"Q/w  charge per width of the tank\",fontsize=12)\n",
    "grid()\n",
    "show()\n",
    "\n",
    "plot(h/200,Q_fluid, 'g', markersize=8, label=\"Q_fluid\")\n",
    "legend()\n",
    "title(\"Plot of Q_fluid (charge in co) vs h\",fontsize=16)\n",
    "xlabel(r'$\\frac{h}{Lp}$', fontsize=20)\n",
    "ylabel(\"Q/w  charge per width of the tank\",fontsize=12)\n",
    "grid()\n",
    "show()\n",
    "\n",
    "print(\"It is clear that charge Q is not Linear as it is not linearly proportional to h\")"
   ]
  },
  {
   "cell_type": "markdown",
   "metadata": {},
   "source": [
    "### 6. Verifying continuity of Dn Normal component of Electric Flux Density\n",
    "\n",
    "The continuity equation is \\$D_{n_1}$ = $D_{n_2}$,\n",
    "Where ${D_n}$ = $\\epsilon_r$  ${E_n}$"
   ]
  },
  {
   "cell_type": "code",
   "execution_count": null,
   "metadata": {},
   "outputs": [],
   "source": [
    "# Field at center when h = 0.5*Ly\n",
    "# Delta = 0.1 cm\n",
    "delta = 0.1\n",
    "# We find the potential of the whole grid\n",
    "phi, iters, errors = lap(100, 200, 100, 1.0e-05, 20000)\n",
    "\n",
    "# Then we calculate the Field at the center of the grid by d(phi)/dx in x direction and d(phi)/dy in y direction\n",
    "print(\"Magitude of Potential at the Center of the Tank when H = Ly/2 is\", phi[100,50], \"Volts\")\n",
    "\n",
    "Ex = (phi[100, 50] - phi[100,51])/delta\n",
    "print(\"Field in the X direction will be same for both fluids\", Ex, \"V/cm\")\n",
    "\n",
    "Ey_fluid = (phi[101, 50] - phi[100, 50])/delta\n",
    "Ey_air = (phi[100, 50] - phi[99, 50])/delta\n",
    "print()\n",
    "print(\"Magnitude of Field of Air at the center = \" , sqrt(Ex**2 + Ey_air**2))\n",
    "print(\"Angle of incidence is  =\", math.atan(Ex/Ey_air), \"radians\")\n",
    "print()\n",
    "print(\"Magnitude of Field of Fluid at the center = \" , sqrt(Ex**2 + Ey_fluid**2))\n",
    "print(\"Angle of incidence is  =\",  math.atan(Ex/Ey_fluid), \"radians\")\n",
    "print()\n",
    "\n",
    "# Continuity of Dn at the interface e_1 * E_n1 = e_2 * E_n2  \n",
    "print(\"Dn of air = \",  Ey_air)\n",
    "print(\"Dn of fluid = \", Ey_fluid * E_r)\n",
    "print(\"Hence Verified the Continuity of Dn\")"
   ]
  },
  {
   "cell_type": "markdown",
   "metadata": {},
   "source": [
    "### 7. Verifying Snell's Law\n",
    "\n",
    "Snell's Law states that \n",
    "\\begin{equation}\n",
    "    n_1 sin(\\theta_1) = n_2sin(\\theta_2)\n",
    "\\end{equation}\n",
    "\n",
    "where \\$n_1$ and $n_2$, is the refractive index which is related to dielectric constant $n$ = $\\sqrt\\epsilon_r$ assuming same permeability for both the liquids.\n",
    "\n",
    "Only a free EM wave obeys Snell's law. Here the Electric Field does'nt change with time hence there is no EM wave. \n",
    "\n",
    "Thus Snell's Law should not hold true"
   ]
  },
  {
   "cell_type": "code",
   "execution_count": null,
   "metadata": {},
   "outputs": [],
   "source": [
    "# Snell's Law states that ratio of dielectric constant = ratio of sin(angle of incidence)\n",
    "# Verifying Snell's Law\n",
    "print(\"Ratio of root of  dielectric constants\", 1/math.sqrt(E_r))\n",
    "print(\"Ratio of sine of angle of incidence\", math.sin(math.atan(Ex/Ey_air))/ math.sin(math.atan(Ex/Ey_fluid)))\n",
    "\n",
    "print()\n",
    "print(\"This verifies Snell's law  does not hot true here.\")"
   ]
  }
 ],
 "metadata": {
  "kernelspec": {
   "display_name": "Python 3",
   "language": "python",
   "name": "python3"
  },
  "language_info": {
   "codemirror_mode": {
    "name": "ipython",
    "version": 3
   },
   "file_extension": ".py",
   "mimetype": "text/x-python",
   "name": "python",
   "nbconvert_exporter": "python",
   "pygments_lexer": "ipython3",
   "version": "3.7.6"
  }
 },
 "nbformat": 4,
 "nbformat_minor": 4
}
