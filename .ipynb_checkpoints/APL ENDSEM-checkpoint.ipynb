{
 "cells": [
  {
   "cell_type": "markdown",
   "metadata": {},
   "source": [
    "**APL ENDSEM**\n",
    "\n",
    "Submitted by: Tamil Sudaravan M\n",
    "\n",
    "Roll Number: EE18B119"
   ]
  },
  {
   "cell_type": "markdown",
   "metadata": {},
   "source": [
    "# Introduction\n",
    "Given An rectagular Tank filled with a fluid, we are requied to answer various questions given."
   ]
  },
  {
   "cell_type": "code",
   "execution_count": 1,
   "metadata": {},
   "outputs": [],
   "source": [
    "from pylab import *\n",
    "from math import *"
   ]
  },
  {
   "cell_type": "code",
   "execution_count": 2,
   "metadata": {},
   "outputs": [],
   "source": [
    "# The Following are the constant which I used.\n",
    "E_0 = 8.85*(10**-12)\n",
    "Er_fluid = 2\n",
    "Er_air = 1\n",
    "Ly = 20\n",
    "Lx = 10\n",
    "# These are values of dimensions which I used to verify all the Plots and Calculations\n",
    "N = 400\n",
    "M = 200\n",
    "k = 200\n",
    "delta = 20/N\n",
    "accuracy = 10**(-5)\n",
    "N_max = 5000"
   ]
  },
  {
   "cell_type": "markdown",
   "metadata": {},
   "source": [
    "# Questions"
   ]
  },
  {
   "cell_type": "markdown",
   "metadata": {},
   "source": [
    "## Question - b: \n",
    "### Solving(Assuming inductance and Area of Parallel Plate capacitor is given),  $ C = \\frac {\\epsilon A}{d - t + t/k}$ and\n",
    "### $w_0 = \\frac{1}{\\sqrt{LC}}$, we get the output of following function as anwer"
   ]
  },
  {
   "cell_type": "code",
   "execution_count": 3,
   "metadata": {},
   "outputs": [
    {
     "name": "stdout",
     "output_type": "stream",
     "text": [
      "40.0\n"
     ]
    }
   ],
   "source": [
    "def solve_Qn_b(w,L,A,Ly,Er_fluid):\n",
    "    Numerator = (E_0*A*L*((w)**2) - Ly)*Er_fluid\n",
    "    Denominator = (1-Er_fluid)\n",
    "    height = Numerator/Denominator\n",
    "    return height\n",
    "height = solve_Qn_b(0,5,5,20,Er_fluid)\n",
    "print(height)"
   ]
  },
  {
   "cell_type": "markdown",
   "metadata": {},
   "source": [
    "## Question - c:\n",
    "We can parallelize computation by vectorising arrays using numpy arrays. Using numpy array makes the computation much faster than any loops.\n",
    "\n",
    "In a single Iteration we can calculate the potential upto k-1 th row and then for kth row and then for k+1 to the final row"
   ]
  },
  {
   "cell_type": "markdown",
   "metadata": {},
   "source": [
    "## Question - d:\n",
    "This is refered from Assignment 5 given in  the Lab.\n",
    "\n",
    "Modelling the error\n",
    "Since the error varies exponentially with the number of itertaions.The equation for the error is given as,\n",
    "$$error = y = A e^{Bx}$$\n",
    "where A,B are constants and x is the number of iterations.\n",
    "\n",
    "The condition for stopping is at,\n",
    "$$ \\int_{N+0.5}^{\\infty} A e^{k} dk < \\delta $$\n",
    "\n",
    "The integration evaluates to $ - \\frac{A}{B} e^{B(N+0.5)} $\n",
    "\n",
    "Hence, $N$ is the required number of iterations taken to reach desired accuracy when the following condition holds,\n",
    "$ - \\frac{A}{B} e^{B(N+0.5)} < \\delta $"
   ]
  },
  {
   "cell_type": "code",
   "execution_count": 4,
   "metadata": {},
   "outputs": [],
   "source": [
    "def fitForError(errors, x):\n",
    "    A = zeros((len(errors), 2))\n",
    "    A[:, 0] = 1\n",
    "    A[:, 1] = x\n",
    "    return A, lstsq(A, log(errors), rcond=None)[0]"
   ]
  },
  {
   "cell_type": "code",
   "execution_count": 5,
   "metadata": {},
   "outputs": [],
   "source": [
    "# This function calculate phi bytaking M,N,delta,k,accuracy,N_max as parameters\n",
    "# and returns the potential matrix (phi), errors array, iteration array as output \n",
    "\n",
    "def solve_Qn_d(M,N,delta,k,accuracy,N_max): \n",
    "    \n",
    "    phi = zeros((N,M))\n",
    "    phi[0] = 1.0\n",
    "    \n",
    "    error_Array = zeros((N_max,1))\n",
    "    iteration = []\n",
    "    \n",
    "    for e in range(N_max):\n",
    "        phi_prev = phi.copy() #Previous Phi is stored\n",
    "        #calculating new Phi for m < k \n",
    "        phi[1:k,1:-1] = 0.25*(phi[1:k,0:-2]+\n",
    "                               phi[1:k,2:]+\n",
    "                               phi[0:k-1,1:-1]+\n",
    "                               phi[2:k+1,1:-1])\n",
    "        #calculating new Phi for  m =  K\n",
    "        phi[k,1:-1] = (Er_fluid* phi[k-1,1:-1] + phi[k+1,1:-1])/(Er_fluid + 1)\n",
    "        #calculating new Phi for  m > k\n",
    "        phi[k+1:-1,1:-1] = 0.25*(phi[k+1:-1,0:-2]+\n",
    "                               phi[k+1:-1,2:]+\n",
    "                               phi[k:-2,1:-1]+\n",
    "                               phi[k+2:,1:-1])\n",
    "    \n",
    "        error_Array[e] = (abs(phi-phi_prev).max()) #Calculating the error Array\n",
    "        iteration.append(e)                        #Keeping Track of the iteration\n",
    "        \n",
    "    M1, c1 = fitForError(error_Array, iteration)# fit1\n",
    "    \n",
    "#         if error_Array[e] < accuracy: #If we get the desired Accuracy, We break the Loop\n",
    "#             break\n",
    "    return phi,error_Array,iteration"
   ]
  },
  {
   "cell_type": "code",
   "execution_count": 6,
   "metadata": {},
   "outputs": [],
   "source": [
    "def plot_potential(N,M,phi):\n",
    "    y = linspace(0, Ly, N) #y's Range\n",
    "    x = linspace(0, Lx, M) #x's Range\n",
    "    X,Y= meshgrid(x,-y) #Meshgrid\n",
    "    \n",
    "    fig1 = figure(figsize = (10,7))\n",
    "    ax1 = fig1.add_subplot(111)\n",
    "    plt1 = ax1.contourf(X,Y,phi, cmap=cm.jet, clabel=\"$\\phi$\")\n",
    "    title(\"Figure 1 : Contour Plot of $\\phi$\")\n",
    "    ax = gca()\n",
    "    fig1.colorbar(plt1, ax=ax, orientation='vertical')\n",
    "    xlabel(\"$x$\")\n",
    "    ylabel(\"$y$\")\n",
    "    show()\n",
    "\n",
    "def plot_error(error,iteration):\n",
    "    fig = figure(figsize=(10,7))\n",
    "    ax = fig.add_subplot(111)\n",
    "    ax.plot(iteration[50:500], error[:iteration[-1]+1][50:500], 'go',markersize = 2.5)\n",
    "    title('Error Vs No. of iterations')\n",
    "    xlabel('No. of iters')\n",
    "    ylabel('Error')\n",
    "    show()"
   ]
  },
  {
   "cell_type": "code",
   "execution_count": 7,
   "metadata": {},
   "outputs": [
    {
     "ename": "TypeError",
     "evalue": "only size-1 arrays can be converted to Python scalars",
     "output_type": "error",
     "traceback": [
      "\u001b[1;31m---------------------------------------------------------------------------\u001b[0m",
      "\u001b[1;31mTypeError\u001b[0m                                 Traceback (most recent call last)",
      "\u001b[1;32m<ipython-input-7-aab3a8ee70c0>\u001b[0m in \u001b[0;36m<module>\u001b[1;34m\u001b[0m\n\u001b[1;32m----> 1\u001b[1;33m \u001b[0mphi\u001b[0m\u001b[1;33m,\u001b[0m\u001b[0merror_Array\u001b[0m\u001b[1;33m,\u001b[0m\u001b[0miteration\u001b[0m \u001b[1;33m=\u001b[0m \u001b[0msolve_Qn_d\u001b[0m\u001b[1;33m(\u001b[0m\u001b[0mM\u001b[0m\u001b[1;33m,\u001b[0m\u001b[0mN\u001b[0m\u001b[1;33m,\u001b[0m\u001b[0mdelta\u001b[0m\u001b[1;33m,\u001b[0m\u001b[0mk\u001b[0m\u001b[1;33m,\u001b[0m\u001b[0maccuracy\u001b[0m\u001b[1;33m,\u001b[0m\u001b[0mN_max\u001b[0m\u001b[1;33m)\u001b[0m\u001b[1;33m\u001b[0m\u001b[1;33m\u001b[0m\u001b[0m\n\u001b[0m\u001b[0;32m      2\u001b[0m \u001b[0mplot_potential\u001b[0m\u001b[1;33m(\u001b[0m\u001b[0mN\u001b[0m\u001b[1;33m,\u001b[0m\u001b[0mM\u001b[0m\u001b[1;33m,\u001b[0m\u001b[0mphi\u001b[0m\u001b[1;33m)\u001b[0m\u001b[1;33m\u001b[0m\u001b[1;33m\u001b[0m\u001b[0m\n\u001b[0;32m      3\u001b[0m \u001b[0mplot_error\u001b[0m\u001b[1;33m(\u001b[0m\u001b[0merror_Array\u001b[0m\u001b[1;33m,\u001b[0m\u001b[0miteration\u001b[0m\u001b[1;33m)\u001b[0m\u001b[1;33m\u001b[0m\u001b[1;33m\u001b[0m\u001b[0m\n",
      "\u001b[1;32m<ipython-input-5-4a4164e002a1>\u001b[0m in \u001b[0;36msolve_Qn_d\u001b[1;34m(M, N, delta, k, accuracy, N_max)\u001b[0m\n\u001b[0;32m     28\u001b[0m         \u001b[0miteration\u001b[0m\u001b[1;33m.\u001b[0m\u001b[0mappend\u001b[0m\u001b[1;33m(\u001b[0m\u001b[0me\u001b[0m\u001b[1;33m)\u001b[0m                        \u001b[1;31m#Keeping Track of the iteration\u001b[0m\u001b[1;33m\u001b[0m\u001b[1;33m\u001b[0m\u001b[0m\n\u001b[0;32m     29\u001b[0m \u001b[1;33m\u001b[0m\u001b[0m\n\u001b[1;32m---> 30\u001b[1;33m     \u001b[0mM1\u001b[0m\u001b[1;33m,\u001b[0m \u001b[0mc1\u001b[0m \u001b[1;33m=\u001b[0m \u001b[0mfitForError\u001b[0m\u001b[1;33m(\u001b[0m\u001b[0merror_Array\u001b[0m\u001b[1;33m,\u001b[0m \u001b[0miteration\u001b[0m\u001b[1;33m)\u001b[0m\u001b[1;31m# fit1\u001b[0m\u001b[1;33m\u001b[0m\u001b[1;33m\u001b[0m\u001b[0m\n\u001b[0m\u001b[0;32m     31\u001b[0m \u001b[1;33m\u001b[0m\u001b[0m\n\u001b[0;32m     32\u001b[0m \u001b[1;31m#         if error_Array[e] < accuracy: #If we get the desired Accuracy, We break the Loop\u001b[0m\u001b[1;33m\u001b[0m\u001b[1;33m\u001b[0m\u001b[1;33m\u001b[0m\u001b[0m\n",
      "\u001b[1;32m<ipython-input-4-c55487ecdb23>\u001b[0m in \u001b[0;36mfitForError\u001b[1;34m(errors, x)\u001b[0m\n\u001b[0;32m      3\u001b[0m     \u001b[0mA\u001b[0m\u001b[1;33m[\u001b[0m\u001b[1;33m:\u001b[0m\u001b[1;33m,\u001b[0m \u001b[1;36m0\u001b[0m\u001b[1;33m]\u001b[0m \u001b[1;33m=\u001b[0m \u001b[1;36m1\u001b[0m\u001b[1;33m\u001b[0m\u001b[1;33m\u001b[0m\u001b[0m\n\u001b[0;32m      4\u001b[0m     \u001b[0mA\u001b[0m\u001b[1;33m[\u001b[0m\u001b[1;33m:\u001b[0m\u001b[1;33m,\u001b[0m \u001b[1;36m1\u001b[0m\u001b[1;33m]\u001b[0m \u001b[1;33m=\u001b[0m \u001b[0mx\u001b[0m\u001b[1;33m\u001b[0m\u001b[1;33m\u001b[0m\u001b[0m\n\u001b[1;32m----> 5\u001b[1;33m     \u001b[1;32mreturn\u001b[0m \u001b[0mA\u001b[0m\u001b[1;33m,\u001b[0m \u001b[0mlstsq\u001b[0m\u001b[1;33m(\u001b[0m\u001b[0mA\u001b[0m\u001b[1;33m,\u001b[0m \u001b[0mlog\u001b[0m\u001b[1;33m(\u001b[0m\u001b[0merrors\u001b[0m\u001b[1;33m)\u001b[0m\u001b[1;33m,\u001b[0m \u001b[0mrcond\u001b[0m\u001b[1;33m=\u001b[0m\u001b[1;32mNone\u001b[0m\u001b[1;33m)\u001b[0m\u001b[1;33m[\u001b[0m\u001b[1;36m0\u001b[0m\u001b[1;33m]\u001b[0m\u001b[1;33m\u001b[0m\u001b[1;33m\u001b[0m\u001b[0m\n\u001b[0m",
      "\u001b[1;31mTypeError\u001b[0m: only size-1 arrays can be converted to Python scalars"
     ]
    }
   ],
   "source": [
    "phi,error_Array,iteration = solve_Qn_d(M,N,delta,k,accuracy,N_max)\n",
    "plot_potential(N,M,phi)\n",
    "plot_error(error_Array,iteration)"
   ]
  },
  {
   "cell_type": "markdown",
   "metadata": {},
   "source": [
    "## Question - e:\n",
    "We know that, \\$E =\\frac{QA}{\\epsilon_0}$\n",
    "From this, We can say that the charge is proportional to the electric field.\n",
    "From the boundary condition of Maxwell's Law we can find the field which is proportional to the corresponding charge"
   ]
  },
  {
   "cell_type": "code",
   "execution_count": null,
   "metadata": {},
   "outputs": [],
   "source": [
    "def Charge(M,N,delta,k,accuracy,N_max):\n",
    "    delY = 20/N\n",
    "    delX = 10/M\n",
    "    \n",
    "    phi,error_Array,iteration = solve_Qn_d(M,N,delta,k,accuracy,N_max)\n",
    "\n",
    "    # Charge at the top\n",
    "    qTop = 0\n",
    "    E_Normal_Top = sum(phi[0] - phi[1])/delY\n",
    "    qTop = E_Normal_Top\n",
    "\n",
    "    # Charge on Fluid is proportional to Electric Field on left+right+bottom\n",
    "    \n",
    "    qFluid = 0\n",
    "    E_Normal_Bottom = sum(phi[N-2,1:M-1])/delY\n",
    "    E_Normal_Left = sum(phi[k+1:N,1])/delX\n",
    "    E_Normal_Right = sum(phi[k+1:N,-2])/delX\n",
    "    qFluid = E_Normal_Bottom + E_Normal_Left + E_Normal_Right\n",
    "    \n",
    "    return qFluid,qTop\n",
    "\n",
    "Q_Fluid,Q_Top = Charge(M,N,delta,N//2,accuracy,N_max)  #At h = 0.5 * Ly\n",
    "\n",
    "print(\"Charge on the Top: \", Q_Top)\n",
    "print(\"Charge on the Fluid: \", Q_Fluid)\n",
    "\n",
    "def Plot_Charge():\n",
    "    qFluid = []\n",
    "    qTop = []\n",
    "    k = linspace(0,0.9,10)\n",
    "    for i in range(1,10):\n",
    "        k_val = int(k[i]*N)\n",
    "#         print(k_val)\n",
    "        qf,qt = Charge(M,N,delta,k_val,accuracy,N_max)\n",
    "        qFluid.append(qf)\n",
    "        qTop.append(qt)\n",
    "    fig = figure(figsize = (20,10))\n",
    "    \n",
    "    ax1 = fig.add_subplot(121)\n",
    "    ax2 = fig.add_subplot(122)\n",
    "    #Plotting Charge on Top vs h/Ly\n",
    "    h = linspace(0.1,0.9,9)\n",
    "    ax1.plot(h,qTop)\n",
    "    ax1.set_xlabel('h/Ly Ratio')\n",
    "    ax1.set_ylabel('$Q_{top}$')\n",
    "    #Plotting Charge on Fluid vs h/Lx\n",
    "    ax2.plot(h,qFluid)\n",
    "    ax2.set_xlabel('h/Lx Ratio')\n",
    "    ax2.set_ylabel('$Q_{Fluid}$')\n",
    "    \n",
    "    show()\n",
    "    \n",
    "Plot_Charge()"
   ]
  },
  {
   "cell_type": "markdown",
   "metadata": {},
   "source": [
    "#### Inference:\n",
    "From the plot we can conclude that the charge is not linearly proportional to the height h"
   ]
  },
  {
   "cell_type": "markdown",
   "metadata": {},
   "source": [
    "### Quetion - f:\n",
    "The continuity equation is given by \\$D_{n_1}$ = $D_{n_2}$,\n",
    "Where ${D_n}$ = $\\epsilon_r$  ${E_n}$"
   ]
  },
  {
   "cell_type": "code",
   "execution_count": null,
   "metadata": {
    "scrolled": true
   },
   "outputs": [],
   "source": [
    "phi,error,iteration = solve_Qn_d(M,N,delta,k,accuracy,N_max)\n",
    "k_val = 0.5*N"
   ]
  },
  {
   "cell_type": "code",
   "execution_count": null,
   "metadata": {},
   "outputs": [],
   "source": [
    "def solve_Qn_f(M,N,delta,k_val,accuracy,N_max):\n",
    "    delY = 20/N\n",
    "    delX = 10/M\n",
    "    \n",
    "    Ex =-1 * (phi[N//2 ,M//2 + 1] - phi[N//2, M//2 - 1])/2*delX\n",
    "    Ey_air = -1 * (phi[N//2 + 1,M//2] - phi[N//2, M//2])/delY\n",
    "    Ey_fluid = -1 * (phi[N//2,M//2] - phi[N//2 - 1, M//2])/delY\n",
    "    print(\"Parrallel Component of Electric Field (Ex): \",Ex)\n",
    "    print('')\n",
    "    print('Perpendicular Component of Electric Field in air (Ey_air): ',Ey_air)\n",
    "    print('Perpendicular Component of Electric Field in Fluid (Ey_fluid)', Ey_fluid)\n",
    "    print('')\n",
    "    print('Dn_air: ',Ey_air*Er_air)\n",
    "    print('Dn_fluid', Ey_fluid*Er_fluid)\n",
    "    \n",
    "    return Ex,Ey_air,Ey_fluid\n",
    "    \n",
    "Ex,Ey_air,Ey_fluid = solve_Qn_f(M,N,delta,k_val,accuracy,N_max)"
   ]
  },
  {
   "cell_type": "markdown",
   "metadata": {},
   "source": [
    "We can see that the Dn value in air and fluid turns out to be same. So the Continuity equation holds here.\n",
    "Hence, Contuinity equation is verified"
   ]
  },
  {
   "cell_type": "markdown",
   "metadata": {},
   "source": [
    "## Question - g:\n",
    "\n",
    "Snell's Law states that \n",
    "$$ \\frac{sin(i)}{sin(r)} = \\frac{n_2}{n_1} $$\n",
    "\n",
    "where \\$n_1$ and $n_2$, is the refractive index of the mediums.\n",
    "\n",
    "Considering same permiability of the two medium to be same, we can say that,\n",
    "$$ \\frac{n_2}{n_1}=\\frac{1}{\\sqrt{\\epsilon_r}} $$\n",
    "\n",
    "Only a electromgnetic wave is expected to follow snells law. Here we have a electric field which doesn't change with time. So we expect the field to not follow $Snell's Law$."
   ]
  },
  {
   "cell_type": "code",
   "execution_count": null,
   "metadata": {},
   "outputs": [],
   "source": [
    "def solve_Qn_g():\n",
    "    theta_i = degrees(atan(1/(Ey_air/Ex)))\n",
    "    theta_r = degrees(atan(1/(Ey_fluid/Ex)))\n",
    "    Nr = sin(radians(theta_i))\n",
    "    Dr = sin(radians(theta_r))\n",
    "    print(\"Incident Angle: \", theta_i)\n",
    "    print(\"Refracted Angle: \", theta_r)\n",
    "    print('')\n",
    "    print(\"Change in Angle: \", abs(theta_i-theta_r))\n",
    "    print('')\n",
    "    print(\"Ratio of sines of the angle: \", Nr/Dr)\n",
    "    print(\"Refractive Index ratio: \", sqrt(Er_air/Er_fluid))\n",
    "solve_Qn_g()"
   ]
  },
  {
   "cell_type": "markdown",
   "metadata": {},
   "source": [
    "As expected the ratio of sines is not matching with the ratio of refractive indices we have. So Snells Law is not obeyed"
   ]
  }
 ],
 "metadata": {
  "kernelspec": {
   "display_name": "Python 3",
   "language": "python",
   "name": "python3"
  },
  "language_info": {
   "codemirror_mode": {
    "name": "ipython",
    "version": 3
   },
   "file_extension": ".py",
   "mimetype": "text/x-python",
   "name": "python",
   "nbconvert_exporter": "python",
   "pygments_lexer": "ipython3",
   "version": "3.7.6"
  }
 },
 "nbformat": 4,
 "nbformat_minor": 2
}
